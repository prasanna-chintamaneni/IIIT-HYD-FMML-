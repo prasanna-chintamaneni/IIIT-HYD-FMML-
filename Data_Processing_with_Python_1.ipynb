{
  "nbformat": 4,
  "nbformat_minor": 0,
  "metadata": {
    "colab": {
      "provenance": [],
      "include_colab_link": true
    },
    "kernelspec": {
      "name": "python3",
      "display_name": "Python 3"
    },
    "language_info": {
      "name": "python"
    }
  },
  "cells": [
    {
      "cell_type": "markdown",
      "metadata": {
        "id": "view-in-github",
        "colab_type": "text"
      },
      "source": [
        "<a href=\"https://colab.research.google.com/github/prasanna-chintamaneni/IIIT-HYD-FMML-/blob/main/Data_Processing_with_Python_1.ipynb\" target=\"_parent\"><img src=\"https://colab.research.google.com/assets/colab-badge.svg\" alt=\"Open In Colab\"/></a>"
      ]
    },
    {
      "cell_type": "code",
      "execution_count": null,
      "metadata": {
        "id": "kUOUA4g6fBdl"
      },
      "outputs": [],
      "source": [
        "!wget https://www.gutenberg.org/files/11/11-0.txt"
      ]
    },
    {
      "cell_type": "code",
      "source": [
        "fp1 = open('11-0.txt', 'r')"
      ],
      "metadata": {
        "id": "myCe45Gml5ks"
      },
      "execution_count": null,
      "outputs": []
    },
    {
      "cell_type": "code",
      "source": [
        "file_buffer = fp1.read()"
      ],
      "metadata": {
        "id": "pKX7Yhp2mCLc"
      },
      "execution_count": null,
      "outputs": []
    },
    {
      "cell_type": "code",
      "source": [
        "len(file_buffer)"
      ],
      "metadata": {
        "id": "sJDRc9somGgN"
      },
      "execution_count": null,
      "outputs": []
    },
    {
      "cell_type": "code",
      "source": [
        "file_buffer"
      ],
      "metadata": {
        "id": "XTXoGvNDmR58"
      },
      "execution_count": null,
      "outputs": []
    },
    {
      "cell_type": "code",
      "source": [
        "file_buffer = file_buffer.lower()"
      ],
      "metadata": {
        "id": "Z5YzC1ybmevc"
      },
      "execution_count": null,
      "outputs": []
    },
    {
      "cell_type": "code",
      "source": [
        "file_buffer"
      ],
      "metadata": {
        "id": "6T15B_Phmkjp"
      },
      "execution_count": null,
      "outputs": []
    },
    {
      "cell_type": "code",
      "source": [
        "fp2 = open('word_file.txt', 'w')"
      ],
      "metadata": {
        "id": "98mhSyB7mzyJ"
      },
      "execution_count": null,
      "outputs": []
    },
    {
      "cell_type": "code",
      "source": [
        "for each_char in file_buffer:\n",
        "  if each_char >= 'a' and each_char <='z':\n",
        "    fp2.write(each_char)\n",
        "  else:\n",
        "    fp2.write(' ')"
      ],
      "metadata": {
        "id": "km4VeZxZm6eQ"
      },
      "execution_count": null,
      "outputs": []
    },
    {
      "cell_type": "code",
      "source": [
        "fp1.close()\n",
        "fp2.close()"
      ],
      "metadata": {
        "id": "665CISUAnM6t"
      },
      "execution_count": null,
      "outputs": []
    },
    {
      "cell_type": "code",
      "source": [
        "fp3 = open('word_file.txt', 'r')"
      ],
      "metadata": {
        "id": "rc6FmVTynxK8"
      },
      "execution_count": null,
      "outputs": []
    },
    {
      "cell_type": "code",
      "source": [
        "word_buffer = fp3.read()"
      ],
      "metadata": {
        "id": "-00niYtDn8kg"
      },
      "execution_count": null,
      "outputs": []
    },
    {
      "cell_type": "code",
      "source": [
        "len(word_buffer)"
      ],
      "metadata": {
        "id": "drdYzXFJoBy5"
      },
      "execution_count": null,
      "outputs": []
    },
    {
      "cell_type": "code",
      "source": [
        "word_buffer"
      ],
      "metadata": {
        "id": "o2CRAqtJoEUn"
      },
      "execution_count": null,
      "outputs": []
    },
    {
      "cell_type": "code",
      "source": [
        "word_list  = word_buffer.split()"
      ],
      "metadata": {
        "id": "WpqWsMS0oJ6w"
      },
      "execution_count": null,
      "outputs": []
    },
    {
      "cell_type": "code",
      "source": [
        "len(word_list)"
      ],
      "metadata": {
        "id": "j1wcJQaGoP01"
      },
      "execution_count": null,
      "outputs": []
    },
    {
      "cell_type": "code",
      "source": [
        "import collections as cc"
      ],
      "metadata": {
        "id": "pLwUzEdxokaG"
      },
      "execution_count": null,
      "outputs": []
    },
    {
      "cell_type": "code",
      "source": [
        "word_collect = cc.Counter(word_list)"
      ],
      "metadata": {
        "id": "HOCPsi5woykw"
      },
      "execution_count": null,
      "outputs": []
    },
    {
      "cell_type": "code",
      "source": [
        "word_collect"
      ],
      "metadata": {
        "id": "9Fg0dFn5pU31"
      },
      "execution_count": null,
      "outputs": []
    },
    {
      "cell_type": "code",
      "source": [
        "word_collect = dict(word_collect)"
      ],
      "metadata": {
        "id": "-hHT_Mueo6-S"
      },
      "execution_count": null,
      "outputs": []
    },
    {
      "cell_type": "code",
      "source": [
        "type(word_collect)"
      ],
      "metadata": {
        "id": "_PzeRBcgpjw8"
      },
      "execution_count": null,
      "outputs": []
    },
    {
      "cell_type": "code",
      "source": [
        "pruned_word_collect = [(i,j) for i,j in word_collect.items() if len(i) > 3]"
      ],
      "metadata": {
        "id": "bsD09lA7pmVT"
      },
      "execution_count": null,
      "outputs": []
    },
    {
      "cell_type": "code",
      "source": [
        "len(pruned_word_collect)"
      ],
      "metadata": {
        "id": "b7Bpfsi1p6MU"
      },
      "execution_count": null,
      "outputs": []
    },
    {
      "cell_type": "code",
      "source": [
        "x = dict(pruned_word_collect).keys()\n",
        "y = dict(pruned_word_collect).values()"
      ],
      "metadata": {
        "id": "D2NY2-3bqv-w"
      },
      "execution_count": null,
      "outputs": []
    },
    {
      "cell_type": "code",
      "source": [
        "pruned_word_collect = dict(pruned_word_collect)"
      ],
      "metadata": {
        "id": "pLTTyvCLrw2X"
      },
      "execution_count": null,
      "outputs": []
    },
    {
      "cell_type": "code",
      "source": [
        "import matplotlib.pyplot as plt"
      ],
      "metadata": {
        "id": "wdx1VGDeqkze"
      },
      "execution_count": null,
      "outputs": []
    },
    {
      "cell_type": "code",
      "source": [
        "plt.plot(list(x), list(y))\n",
        "plt.plot()"
      ],
      "metadata": {
        "id": "f-PzOzP4qrHe"
      },
      "execution_count": null,
      "outputs": []
    },
    {
      "cell_type": "code",
      "source": [
        "high_freq_dict = [(i,j) for i, j in pruned_word_collect.items() if j > 100]"
      ],
      "metadata": {
        "id": "DAp9raclro9z"
      },
      "execution_count": null,
      "outputs": []
    },
    {
      "cell_type": "code",
      "source": [
        "x = dict(high_freq_dict).keys()\n",
        "y = dict(high_freq_dict).values()"
      ],
      "metadata": {
        "id": "MuIdfX3Xr9ux"
      },
      "execution_count": null,
      "outputs": []
    },
    {
      "cell_type": "code",
      "source": [
        "plt.plot(list(x), list(y))\n",
        "plt.show()"
      ],
      "metadata": {
        "id": "G5ykdYFfsHOG"
      },
      "execution_count": null,
      "outputs": []
    }
  ]
}
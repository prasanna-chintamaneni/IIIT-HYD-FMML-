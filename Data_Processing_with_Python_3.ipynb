{
  "nbformat": 4,
  "nbformat_minor": 0,
  "metadata": {
    "colab": {
      "provenance": [],
      "include_colab_link": true
    },
    "kernelspec": {
      "name": "python3",
      "display_name": "Python 3"
    },
    "language_info": {
      "name": "python"
    }
  },
  "cells": [
    {
      "cell_type": "markdown",
      "metadata": {
        "id": "view-in-github",
        "colab_type": "text"
      },
      "source": [
        "<a href=\"https://colab.research.google.com/github/prasanna-chintamaneni/IIIT-HYD-FMML-/blob/main/Data_Processing_with_Python_3.ipynb\" target=\"_parent\"><img src=\"https://colab.research.google.com/assets/colab-badge.svg\" alt=\"Open In Colab\"/></a>"
      ]
    },
    {
      "cell_type": "code",
      "source": [
        "import numpy as np\n",
        "import matplotlib.pyplot as plt\n",
        "import pandas as pd\n",
        "import seaborn as sns"
      ],
      "metadata": {
        "id": "JJ3R-H4B9I6y"
      },
      "execution_count": null,
      "outputs": []
    },
    {
      "cell_type": "code",
      "source": [
        "stockmarket_data = pd.Series(np.random.randn(1000))"
      ],
      "metadata": {
        "id": "yYdpIk-7AgQG"
      },
      "execution_count": null,
      "outputs": []
    },
    {
      "cell_type": "code",
      "source": [
        "stockmarket_cumulative = stockmarket_data.cumsum()"
      ],
      "metadata": {
        "id": "aJcfkgccCGD8"
      },
      "execution_count": null,
      "outputs": []
    },
    {
      "cell_type": "code",
      "source": [
        "stockmarket_cumulative.plot()"
      ],
      "metadata": {
        "id": "dhAJUesBAssI"
      },
      "execution_count": null,
      "outputs": []
    },
    {
      "cell_type": "code",
      "source": [
        "stock_prices = pd.DataFrame(np.random.randn(1000, 3))"
      ],
      "metadata": {
        "id": "DFg0tXi5Dapo"
      },
      "execution_count": null,
      "outputs": []
    },
    {
      "cell_type": "code",
      "source": [
        "stock_prices"
      ],
      "metadata": {
        "id": "_29gXOrLDvSP"
      },
      "execution_count": null,
      "outputs": []
    },
    {
      "cell_type": "code",
      "source": [
        "stock_prices.columns = ['India', 'Pakistan', 'Bhutan']"
      ],
      "metadata": {
        "id": "HVjo-uvJEAVv"
      },
      "execution_count": null,
      "outputs": []
    },
    {
      "cell_type": "code",
      "source": [
        "stock_prices"
      ],
      "metadata": {
        "id": "EuH7HgWtENcP"
      },
      "execution_count": null,
      "outputs": []
    },
    {
      "cell_type": "code",
      "source": [
        "stock_prices.index = pd.date_range('1/1/2018', periods=1000)"
      ],
      "metadata": {
        "id": "PQm_93b8EfkU"
      },
      "execution_count": null,
      "outputs": []
    },
    {
      "cell_type": "code",
      "source": [
        "stock_prices"
      ],
      "metadata": {
        "id": "WeYBvWCKExHy"
      },
      "execution_count": null,
      "outputs": []
    },
    {
      "cell_type": "code",
      "source": [
        "stock_prices.to_csv('stock.csv')"
      ],
      "metadata": {
        "id": "yTJXCkEMGITM"
      },
      "execution_count": null,
      "outputs": []
    },
    {
      "cell_type": "code",
      "source": [
        "stock_prices_cumulative = stock_prices.cumsum()"
      ],
      "metadata": {
        "id": "M9nl00g3FQYy"
      },
      "execution_count": null,
      "outputs": []
    },
    {
      "cell_type": "code",
      "source": [
        "stock_prices_cumulative.plot()"
      ],
      "metadata": {
        "id": "eMQbFQksFW5I"
      },
      "execution_count": null,
      "outputs": []
    },
    {
      "cell_type": "code",
      "source": [
        "!wget https://raw.githubusercontent.com/ckrihub/bridge-sessions/main/ToyotaCorolla.csv"
      ],
      "metadata": {
        "id": "Frl2wU-0GC9T"
      },
      "execution_count": null,
      "outputs": []
    },
    {
      "cell_type": "code",
      "source": [
        "car_data = pd.read_csv('ToyotaCorolla.csv')"
      ],
      "metadata": {
        "id": "ao95XFPdHYoE"
      },
      "execution_count": null,
      "outputs": []
    },
    {
      "cell_type": "code",
      "source": [
        "car_data.tail()"
      ],
      "metadata": {
        "id": "0N0_gqNnHeXz"
      },
      "execution_count": null,
      "outputs": []
    },
    {
      "cell_type": "code",
      "source": [
        "car_data.describe()"
      ],
      "metadata": {
        "id": "yUhfcTDIHnBC"
      },
      "execution_count": null,
      "outputs": []
    },
    {
      "cell_type": "code",
      "source": [
        "car_data.sort_values('Price', inplace=True)"
      ],
      "metadata": {
        "id": "1HbkYPy8H00W"
      },
      "execution_count": null,
      "outputs": []
    },
    {
      "cell_type": "code",
      "source": [
        "car_data"
      ],
      "metadata": {
        "id": "jw_jvb68If-z"
      },
      "execution_count": null,
      "outputs": []
    },
    {
      "cell_type": "code",
      "source": [
        "plt.hist(car_data['Price'], bins=100)"
      ],
      "metadata": {
        "id": "diZkutj7Iof0"
      },
      "execution_count": null,
      "outputs": []
    },
    {
      "cell_type": "code",
      "source": [
        "sns.lmplot(x='Price', y='Age', data=car_data, hue='FuelType')"
      ],
      "metadata": {
        "id": "s23RgjQmJiWz"
      },
      "execution_count": null,
      "outputs": []
    },
    {
      "cell_type": "code",
      "source": [
        "sns.pairplot(car_data, hue='FuelType')"
      ],
      "metadata": {
        "id": "mz1p_5BiKom5"
      },
      "execution_count": null,
      "outputs": []
    }
  ]
}